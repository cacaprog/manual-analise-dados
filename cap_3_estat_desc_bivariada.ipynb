{
 "cells": [
  {
   "cell_type": "markdown",
   "id": "b84aed86-b84e-4229-ac92-3fe0f0f01e96",
   "metadata": {},
   "source": [
    "# Capítulo 3: Estatística Descritiva Bivariada"
   ]
  },
  {
   "cell_type": "markdown",
   "id": "18671084-dd6e-4f94-8a8c-456740bef447",
   "metadata": {
    "tags": []
   },
   "source": [
    "## Questões"
   ]
  },
  {
   "cell_type": "markdown",
   "id": "5fa9f847-a273-4ae6-a9a1-aef3f5c9f686",
   "metadata": {},
   "source": [
    "### 1) Quais estatísticas descritivas podem ser utilizadas (e em quais situações) para representar o comportamento de duas variáveis qualitativas simultaneamente?"
   ]
  },
  {
   "cell_type": "markdown",
   "id": "70b73227-c14d-4bd5-959f-9a8d51f40a0f",
   "metadata": {},
   "source": [
    "Podemos utilizar:\n",
    "- tabela de contigência\n",
    "- mapas perceptuais\n",
    "- medidas-resumo de associação como qui-quadrado, coeficientes de Phi, de contingência, V de Cramer ou coeficiente de Spearman"
   ]
  },
  {
   "cell_type": "markdown",
   "id": "298bbf98-3cca-4807-be3e-88d827df66e6",
   "metadata": {},
   "source": [
    "### 2) E para representar o comportamento de duas variáveis quantitativas?"
   ]
  },
  {
   "cell_type": "markdown",
   "id": "0d95a733-783e-41c2-afe8-5320dc4693a5",
   "metadata": {},
   "source": [
    "Podemos utilizar:\n",
    "- tabela de distribuição de frequências\n",
    "- diagrama de dispersão (scatterplot)\n",
    "- medidas-resumo de correlação como covariância e coeficiente de correlação de Pearson"
   ]
  },
  {
   "cell_type": "markdown",
   "id": "a491cafd-014c-479e-b1ba-01722569d61f",
   "metadata": {},
   "source": [
    "### 3) Em que situações devem ser utilizadas tabelas de contingência?"
   ]
  },
  {
   "cell_type": "markdown",
   "id": "af8fb794-25a2-4449-af0f-53534f953e4c",
   "metadata": {},
   "source": [
    "Quando desejamos, de maneira simples, resumir um conjunto de dados de duas variáveis qualitativas. "
   ]
  },
  {
   "cell_type": "markdown",
   "id": "6060b54b-c758-43e7-ba93-a3e489ce4230",
   "metadata": {},
   "source": [
    "### 4) Quais as diferenças entre a estatística qui-quadrado (X 2), o coeficiente Phi, o coeficiente de contingência, o coeficiente V de Cramer e o coeficiente de Spearman?"
   ]
  },
  {
   "cell_type": "markdown",
   "id": "27afe966-86c7-4ff3-80b9-0bed368b39dd",
   "metadata": {},
   "source": [
    "- Estatística Chi-quadrado: verifica se a distribuição das frequências observadas em uma tabela de contingência difere significamente das frequências esperadas sob a hipótese de independência\n",
    "\n",
    "- Coeficiente Phi: utilizado para verificar a força da associação entre duas variáveis qualitativas binárias (dicotômicas). Os valores variam entre -1 e 1, e 0 indica que não há relação.\n",
    "\n",
    "- Coeficiente de contingêcia: a medida de associação entre duas variáveis categóricas que podem ter mais de duas categorias cada. É derivado do teste qui-quadrado. C = 0, não há associação. C perto de 1, indica uma forte associação entre as variáveis (nunca atinge a associação perfeita, ou seja, 1)\n",
    "\n",
    "- V de Cramer: fornece uma medida de associação entre 0 e 1.\n",
    "\n",
    "- Coeficiente de Spearman: mede a força e a direção da associação entre duas  variáveis ordinais. Diferente do coeficiente de Pearson, que mede a relação linear, Spearman avalia a relação monótona (ordem das classificações).\n"
   ]
  },
  {
   "cell_type": "markdown",
   "id": "a6df0856-196a-4821-8a5a-e029ddb02db9",
   "metadata": {},
   "source": [
    "### 5) Quais as principais medidas-resumo para representar o comportamento dos dados entre duas variáveis quantitativas. Descreva cada uma delas?"
   ]
  },
  {
   "cell_type": "markdown",
   "id": "5c3de262-395f-48e9-a9d8-2c65bd6b9293",
   "metadata": {
    "tags": []
   },
   "source": [
    "- Covariância: medida estatística que indica o grau de variação conjunta entre duas variáveis. Covariância positiva indica que ambas as variáveis tendem a aumentar juntas. Covariância negativa indica que quando uma variável aumenta, a outra tende a diminuir. Covariância próxima de zero não mostra uma relação linear.\n",
    "\n",
    "- Correlação de Pearson: mede a força e a direção entre duas variáveis quantitativas. Varia entre -1 e 1, indicam forte correlação negativa e positiva, respectivamente. Valores prõximos a 0 indicam pouca ou nenhuma correlação."
   ]
  },
  {
   "cell_type": "markdown",
   "id": "313c8c7f-0a23-447e-9438-2b7434ac43ee",
   "metadata": {},
   "source": [
    "### 6) Com o objetivo de identificar o comportamento do consumidor inadimplente em relação aos seus hábitos de pagamento, foi realizada uma pesquisa com informações sobre a faixa etária do respondente e o grau de inadimplência. O objetivo é determinar se existe associação entre as variáveis. Com base nos arquivos Inadimplência.sav e Inadimplência.dta, pede-se:\n",
    "    a) Construa as tabelas de distribuição conjunta de frequências para as variáveisfaixa_etária e inadimplência (frequências absolutas, frequências relativas em relação ao total geral, frequências relativas em relação ao total de cada linha, frequências relativas em relação ao total de cada coluna e frequências esperadas).\n",
    "    \n",
    "    b) Determine a porcentagem de indivíduos na faixa etária entre 31 e 40 anos.\n",
    "    \n",
    "    c) Determine a porcentagem de indivíduos muito endividados.\n",
    "    \n",
    "    d) Determine a porcentagem daqueles que são da faixa etária de até 20 anos e que não têm dívidas.\n",
    "\n",
    "    e) Determine, dentre os indivíduos da faixa etária acima de 60 anos, a porcentagem daqueles que são pouco endividados.\n",
    "    \n",
    "    f) Determine, dentre os indivíduos mais ou menos endividados, a porcentagem daqueles que pertencem à faixa etária entre 41 e 50 anos.\n",
    "    \n",
    "    g) Verifique se há indícios de dependência entre as variáveis.\n",
    "    \n",
    "    h) Confirme o item anterior usando a estatística x 2 .\n",
    "    \n",
    "    i) Calcule os coeficientes Phi, de contingência e V de Cramer, confirmando se há ou não associação entre as variáveis."
   ]
  },
  {
   "cell_type": "code",
   "execution_count": 140,
   "id": "e298f738-fbba-424d-bf18-275c8145b293",
   "metadata": {
    "tags": []
   },
   "outputs": [],
   "source": [
    "import pandas as pd\n",
    "import matplotlib.pyplot as plt\n",
    "import numpy as np\n",
    "import seaborn as sns"
   ]
  },
  {
   "cell_type": "code",
   "execution_count": 141,
   "id": "afcd6f96-095e-4988-8f5e-bd45c3998aa8",
   "metadata": {
    "tags": []
   },
   "outputs": [],
   "source": [
    "df = pd.read_stata(\"Bancos de Dados/Cap. 03/Inadimplência.dta\")"
   ]
  },
  {
   "cell_type": "code",
   "execution_count": 142,
   "id": "60b6f054-e621-47a4-abb2-b434628cbeb2",
   "metadata": {
    "tags": []
   },
   "outputs": [
    {
     "name": "stdout",
     "output_type": "stream",
     "text": [
      "<class 'pandas.core.frame.DataFrame'>\n",
      "RangeIndex: 200 entries, 0 to 199\n",
      "Data columns (total 2 columns):\n",
      " #   Column         Non-Null Count  Dtype   \n",
      "---  ------         --------------  -----   \n",
      " 0   faixa_etária   200 non-null    category\n",
      " 1   inadimplência  200 non-null    category\n",
      "dtypes: category(2)\n",
      "memory usage: 956.0 bytes\n"
     ]
    }
   ],
   "source": [
    "df.info()"
   ]
  },
  {
   "cell_type": "code",
   "execution_count": 143,
   "id": "56956b0a-3813-464e-b47b-f573f19a0bf2",
   "metadata": {
    "tags": []
   },
   "outputs": [
    {
     "data": {
      "text/html": [
       "<div>\n",
       "<style scoped>\n",
       "    .dataframe tbody tr th:only-of-type {\n",
       "        vertical-align: middle;\n",
       "    }\n",
       "\n",
       "    .dataframe tbody tr th {\n",
       "        vertical-align: top;\n",
       "    }\n",
       "\n",
       "    .dataframe thead th {\n",
       "        text-align: right;\n",
       "    }\n",
       "</style>\n",
       "<table border=\"1\" class=\"dataframe\">\n",
       "  <thead>\n",
       "    <tr style=\"text-align: right;\">\n",
       "      <th></th>\n",
       "      <th>faixa_etária</th>\n",
       "      <th>inadimplência</th>\n",
       "    </tr>\n",
       "  </thead>\n",
       "  <tbody>\n",
       "    <tr>\n",
       "      <th>0</th>\n",
       "      <td>até 20</td>\n",
       "      <td>não tem dívidas</td>\n",
       "    </tr>\n",
       "    <tr>\n",
       "      <th>1</th>\n",
       "      <td>até 20</td>\n",
       "      <td>pouco endividado</td>\n",
       "    </tr>\n",
       "    <tr>\n",
       "      <th>2</th>\n",
       "      <td>até 20</td>\n",
       "      <td>não tem dívidas</td>\n",
       "    </tr>\n",
       "    <tr>\n",
       "      <th>3</th>\n",
       "      <td>até 20</td>\n",
       "      <td>não tem dívidas</td>\n",
       "    </tr>\n",
       "    <tr>\n",
       "      <th>4</th>\n",
       "      <td>até 20</td>\n",
       "      <td>não tem dívidas</td>\n",
       "    </tr>\n",
       "  </tbody>\n",
       "</table>\n",
       "</div>"
      ],
      "text/plain": [
       "  faixa_etária     inadimplência\n",
       "0       até 20   não tem dívidas\n",
       "1       até 20  pouco endividado\n",
       "2       até 20   não tem dívidas\n",
       "3       até 20   não tem dívidas\n",
       "4       até 20   não tem dívidas"
      ]
     },
     "execution_count": 143,
     "metadata": {},
     "output_type": "execute_result"
    }
   ],
   "source": [
    "df.head()"
   ]
  },
  {
   "cell_type": "markdown",
   "id": "ae74bb2f",
   "metadata": {},
   "source": [
    "a) Construa as tabelas de distribuição conjunta de frequências para as variáveisfaixa_etária e inadimplência"
   ]
  },
  {
   "cell_type": "code",
   "execution_count": 144,
   "id": "ad78fecc",
   "metadata": {},
   "outputs": [
    {
     "name": "stdout",
     "output_type": "stream",
     "text": [
      "Frequências Observadas:\n",
      "inadimplência  não tem dívidas  pouco endividado  mais ou menos endividado  \\\n",
      "faixa_etária                                                                 \n",
      "até 20                       6                 2                         0   \n",
      "21 a 30                      0                 6                        13   \n",
      "31 a 40                      0                 0                         5   \n",
      "41 a 50                      0                 0                        24   \n",
      "51 a 60                      5                27                        15   \n",
      "acima de 60                 16                 7                         0   \n",
      "\n",
      "inadimplência  muito endividado  \n",
      "faixa_etária                     \n",
      "até 20                        0  \n",
      "21 a 30                       9  \n",
      "31 a 40                      49  \n",
      "41 a 50                      16  \n",
      "51 a 60                       0  \n",
      "acima de 60                   0  \n",
      "\n",
      "Frequências Esperadas:\n",
      "inadimplência  não tem dívidas  pouco endividado  mais ou menos endividado  \\\n",
      "faixa_etária                                                                 \n",
      "até 20                   1.080              1.68                     2.280   \n",
      "21 a 30                  3.780              5.88                     7.980   \n",
      "31 a 40                  7.290             11.34                    15.390   \n",
      "41 a 50                  5.400              8.40                    11.400   \n",
      "51 a 60                  6.345              9.87                    13.395   \n",
      "acima de 60              3.105              4.83                     6.555   \n",
      "\n",
      "inadimplência  muito endividado  \n",
      "faixa_etária                     \n",
      "até 20                     2.96  \n",
      "21 a 30                   10.36  \n",
      "31 a 40                   19.98  \n",
      "41 a 50                   14.80  \n",
      "51 a 60                   17.39  \n",
      "acima de 60                8.51  \n"
     ]
    }
   ],
   "source": [
    "# Criar a tabela de contingência\n",
    "tabela_contingencia = pd.crosstab(df['faixa_etária'], df['inadimplência'])\n",
    "\n",
    "# Calcular as margens (totais de linha e coluna)\n",
    "total_linhas = tabela_contingencia.sum(axis=1).values.reshape(-1, 1)\n",
    "total_colunas = tabela_contingencia.sum(axis=0).values.reshape(1, -1)\n",
    "total_geral = tabela_contingencia.values.sum()\n",
    "\n",
    "# Calcular as frequências esperadas\n",
    "frequencias_esperadas = (total_linhas @ total_colunas) / total_geral\n",
    "\n",
    "# Converter para DataFrame para melhor visualização\n",
    "frequencias_esperadas_df = pd.DataFrame(frequencias_esperadas, \n",
    "                                        index=tabela_contingencia.index, \n",
    "                                        columns=tabela_contingencia.columns)\n",
    "\n",
    "# Exibir as tabelas de frequências observadas e esperadas\n",
    "print(\"Frequências Observadas:\")\n",
    "print(tabela_contingencia)\n",
    "\n",
    "print(\"\\nFrequências Esperadas:\")\n",
    "print(frequencias_esperadas_df)"
   ]
  },
  {
   "cell_type": "code",
   "execution_count": 145,
   "id": "da0777fd",
   "metadata": {},
   "outputs": [
    {
     "data": {
      "text/plain": [
       "faixa_etária  inadimplência           \n",
       "31 a 40       muito endividado            0.245\n",
       "51 a 60       pouco endividado            0.135\n",
       "41 a 50       mais ou menos endividado    0.120\n",
       "              muito endividado            0.080\n",
       "acima de 60   não tem dívidas             0.080\n",
       "51 a 60       mais ou menos endividado    0.075\n",
       "21 a 30       mais ou menos endividado    0.065\n",
       "              muito endividado            0.045\n",
       "acima de 60   pouco endividado            0.035\n",
       "até 20        não tem dívidas             0.030\n",
       "21 a 30       pouco endividado            0.030\n",
       "31 a 40       mais ou menos endividado    0.025\n",
       "51 a 60       não tem dívidas             0.025\n",
       "até 20        pouco endividado            0.010\n",
       "Name: proportion, dtype: float64"
      ]
     },
     "execution_count": 145,
     "metadata": {},
     "output_type": "execute_result"
    }
   ],
   "source": [
    "df.value_counts(normalize=True)"
   ]
  },
  {
   "cell_type": "markdown",
   "id": "5ef7e23c",
   "metadata": {},
   "source": [
    "6.b) Determine a porcentagem de indivíduos na faixa etária entre 31 e 40 anos\n",
    "R: 27%"
   ]
  },
  {
   "cell_type": "code",
   "execution_count": 146,
   "id": "141c5b00",
   "metadata": {},
   "outputs": [
    {
     "data": {
      "text/html": [
       "<div>\n",
       "<style scoped>\n",
       "    .dataframe tbody tr th:only-of-type {\n",
       "        vertical-align: middle;\n",
       "    }\n",
       "\n",
       "    .dataframe tbody tr th {\n",
       "        vertical-align: top;\n",
       "    }\n",
       "\n",
       "    .dataframe thead th {\n",
       "        text-align: right;\n",
       "    }\n",
       "</style>\n",
       "<table border=\"1\" class=\"dataframe\">\n",
       "  <thead>\n",
       "    <tr style=\"text-align: right;\">\n",
       "      <th>inadimplência</th>\n",
       "      <th>não tem dívidas</th>\n",
       "      <th>pouco endividado</th>\n",
       "      <th>mais ou menos endividado</th>\n",
       "      <th>muito endividado</th>\n",
       "      <th>All</th>\n",
       "    </tr>\n",
       "    <tr>\n",
       "      <th>faixa_etária</th>\n",
       "      <th></th>\n",
       "      <th></th>\n",
       "      <th></th>\n",
       "      <th></th>\n",
       "      <th></th>\n",
       "    </tr>\n",
       "  </thead>\n",
       "  <tbody>\n",
       "    <tr>\n",
       "      <th>até 20</th>\n",
       "      <td>0.030</td>\n",
       "      <td>0.010</td>\n",
       "      <td>0.000</td>\n",
       "      <td>0.000</td>\n",
       "      <td>0.040</td>\n",
       "    </tr>\n",
       "    <tr>\n",
       "      <th>21 a 30</th>\n",
       "      <td>0.000</td>\n",
       "      <td>0.030</td>\n",
       "      <td>0.065</td>\n",
       "      <td>0.045</td>\n",
       "      <td>0.140</td>\n",
       "    </tr>\n",
       "    <tr>\n",
       "      <th>31 a 40</th>\n",
       "      <td>0.000</td>\n",
       "      <td>0.000</td>\n",
       "      <td>0.025</td>\n",
       "      <td>0.245</td>\n",
       "      <td>0.270</td>\n",
       "    </tr>\n",
       "    <tr>\n",
       "      <th>41 a 50</th>\n",
       "      <td>0.000</td>\n",
       "      <td>0.000</td>\n",
       "      <td>0.120</td>\n",
       "      <td>0.080</td>\n",
       "      <td>0.200</td>\n",
       "    </tr>\n",
       "    <tr>\n",
       "      <th>51 a 60</th>\n",
       "      <td>0.025</td>\n",
       "      <td>0.135</td>\n",
       "      <td>0.075</td>\n",
       "      <td>0.000</td>\n",
       "      <td>0.235</td>\n",
       "    </tr>\n",
       "    <tr>\n",
       "      <th>acima de 60</th>\n",
       "      <td>0.080</td>\n",
       "      <td>0.035</td>\n",
       "      <td>0.000</td>\n",
       "      <td>0.000</td>\n",
       "      <td>0.115</td>\n",
       "    </tr>\n",
       "    <tr>\n",
       "      <th>All</th>\n",
       "      <td>0.135</td>\n",
       "      <td>0.210</td>\n",
       "      <td>0.285</td>\n",
       "      <td>0.370</td>\n",
       "      <td>1.000</td>\n",
       "    </tr>\n",
       "  </tbody>\n",
       "</table>\n",
       "</div>"
      ],
      "text/plain": [
       "inadimplência  não tem dívidas  pouco endividado  mais ou menos endividado  \\\n",
       "faixa_etária                                                                 \n",
       "até 20                   0.030             0.010                     0.000   \n",
       "21 a 30                  0.000             0.030                     0.065   \n",
       "31 a 40                  0.000             0.000                     0.025   \n",
       "41 a 50                  0.000             0.000                     0.120   \n",
       "51 a 60                  0.025             0.135                     0.075   \n",
       "acima de 60              0.080             0.035                     0.000   \n",
       "All                      0.135             0.210                     0.285   \n",
       "\n",
       "inadimplência  muito endividado    All  \n",
       "faixa_etária                            \n",
       "até 20                    0.000  0.040  \n",
       "21 a 30                   0.045  0.140  \n",
       "31 a 40                   0.245  0.270  \n",
       "41 a 50                   0.080  0.200  \n",
       "51 a 60                   0.000  0.235  \n",
       "acima de 60               0.000  0.115  \n",
       "All                       0.370  1.000  "
      ]
     },
     "execution_count": 146,
     "metadata": {},
     "output_type": "execute_result"
    }
   ],
   "source": [
    "# Criar nova tabela, utilizando os recursos de percentual (normalize) e total (margin)\n",
    "tabela_contingencia_margins = pd.crosstab(df['faixa_etária'], df['inadimplência'], normalize=True, margins=True)\n",
    "tabela_contingencia_margins"
   ]
  },
  {
   "cell_type": "markdown",
   "id": "8eeb62d9",
   "metadata": {},
   "source": [
    "6.c) Determine a porcentagem de indivíduos muito endividados.\n",
    "R: 37%"
   ]
  },
  {
   "cell_type": "markdown",
   "id": "42b2fa4d",
   "metadata": {},
   "source": [
    "6.d) Determine a porcentagem daqueles que são da faixa etária de até 20 anos e que não têm dívidas.\n",
    "R: 3%\n",
    "\n",
    "6.e) Determine, dentre os indivíduos da faixa etária acima de 60 anos, a porcentagem daqueles que são pouco endividados.\n",
    "R: 3.5%  \n",
    "\n",
    "6.f) Determine, dentre os indivíduos mais ou menos endividados, a porcentagem daqueles que pertencem à faixa etária entre 41 e 50 anos.\n",
    "R: 12%"
   ]
  },
  {
   "cell_type": "markdown",
   "id": "0351c7d9",
   "metadata": {},
   "source": [
    "6.g) Verifique se há indícios de dependência entre as variáveis."
   ]
  },
  {
   "cell_type": "code",
   "execution_count": 147,
   "id": "097b63f8",
   "metadata": {},
   "outputs": [
    {
     "name": "stdout",
     "output_type": "stream",
     "text": [
      "Estatística Qui-Quadrado: 247.64162479701326\n",
      "Valor-p: 3.7979345007752913e-44\n",
      "Graus de Liberdade: 15\n",
      "Frequências Esperadas:\n",
      "inadimplência  não tem dívidas  pouco endividado  mais ou menos endividado  \\\n",
      "faixa_etária                                                                 \n",
      "até 20                   1.080              1.68                     2.280   \n",
      "21 a 30                  3.780              5.88                     7.980   \n",
      "31 a 40                  7.290             11.34                    15.390   \n",
      "41 a 50                  5.400              8.40                    11.400   \n",
      "51 a 60                  6.345              9.87                    13.395   \n",
      "acima de 60              3.105              4.83                     6.555   \n",
      "\n",
      "inadimplência  muito endividado  \n",
      "faixa_etária                     \n",
      "até 20                     2.96  \n",
      "21 a 30                   10.36  \n",
      "31 a 40                   19.98  \n",
      "41 a 50                   14.80  \n",
      "51 a 60                   17.39  \n",
      "acima de 60                8.51  \n",
      "As variáveis são dependentes (rejeitamos a hipótese nula).\n"
     ]
    }
   ],
   "source": [
    "from scipy.stats import chi2_contingency\n",
    "\n",
    "# Realizar o teste qui-quadrado de independência\n",
    "chi2, p, dof, expected = chi2_contingency(tabela_contingencia)\n",
    "\n",
    "# Exibir os resultados\n",
    "print(\"Estatística Qui-Quadrado:\", chi2)\n",
    "print(\"Valor-p:\", p)\n",
    "print(\"Graus de Liberdade:\", dof)\n",
    "print(\"Frequências Esperadas:\")\n",
    "# maneira interessante de calcular a frequência esperada\n",
    "print(pd.DataFrame(expected, \n",
    "                   index=tabela_contingencia.index, \n",
    "                   columns=tabela_contingencia.columns))\n",
    "\n",
    "# Interpretar o valor-p\n",
    "alpha = 0.05\n",
    "if p < alpha:\n",
    "    print(\"As variáveis são dependentes (rejeitamos a hipótese nula).\")\n",
    "else:\n",
    "    print(\"Não podemos rejeitar a hipótese nula de independência (as variáveis são independentes).\")"
   ]
  },
  {
   "cell_type": "code",
   "execution_count": 148,
   "id": "1968d83c",
   "metadata": {},
   "outputs": [
    {
     "data": {
      "image/png": "[encoded data removed]",
      "text/plain": [
       "<Figure size 1000x700 with 1 Axes>"
      ]
     },
     "metadata": {},
     "output_type": "display_data"
    }
   ],
   "source": [
    "from sklearn.preprocessing import StandardScaler\n",
    "from sklearn.decomposition import PCA\n",
    "\n",
    "# Criar a tabela de contingência\n",
    "tabela_contingencia = pd.crosstab(df['faixa_etária'], df['inadimplência'])\n",
    "\n",
    "# Realizar a análise de correspondência\n",
    "chi2, p, dof, expected = chi2_contingency(tabela_contingencia)\n",
    "\n",
    "# Calcular os valores próprios e vetores próprios\n",
    "row_totals = tabela_contingencia.sum(axis=1)\n",
    "col_totals = tabela_contingencia.sum(axis=0)\n",
    "grand_total = tabela_contingencia.sum().sum()\n",
    "\n",
    "expected = np.outer(row_totals, col_totals) / grand_total\n",
    "chi2_values = (tabela_contingencia - expected) ** 2 / expected\n",
    "\n",
    "# Centralizar os dados\n",
    "scaler = StandardScaler(with_std=False)\n",
    "chi2_values_scaled = scaler.fit_transform(chi2_values)\n",
    "\n",
    "# PCA\n",
    "pca = PCA(n_components=2)\n",
    "principal_components = pca.fit_transform(chi2_values_scaled)\n",
    "loadings = pca.components_.T * np.sqrt(pca.explained_variance_)\n",
    "\n",
    "# Criar um DataFrame para os componentes principais\n",
    "principal_df = pd.DataFrame(data=principal_components, columns=['PC1', 'PC2'])\n",
    "principal_df.index = tabela_contingencia.index\n",
    "\n",
    "# Visualizar os resultados\n",
    "plt.figure(figsize=(10, 7))\n",
    "plt.scatter(principal_df['PC1'], principal_df['PC2'], s=100, c='blue', label='Faixa Etária')\n",
    "\n",
    "for i, txt in enumerate(principal_df.index):\n",
    "    plt.annotate(txt, (principal_df['PC1'][i], principal_df['PC2'][i]), fontsize=12)\n",
    "\n",
    "plt.title('Mapa Perceptual das Categorias')\n",
    "plt.xlabel('Componente Principal 1')\n",
    "plt.ylabel('Componente Principal 2')\n",
    "plt.grid()\n",
    "\n",
    "# Biplot para visualizar as cargas\n",
    "for i, (x, y) in enumerate(loadings):\n",
    "    plt.arrow(0, 0, x, y, color='red', alpha=0.5)\n",
    "    plt.text(x * 1.15, y * 1.15, tabela_contingencia.columns[i], color='red', ha='center', va='center')\n",
    "\n",
    "plt.legend()\n",
    "plt.show()"
   ]
  },
  {
   "cell_type": "markdown",
   "id": "16566891",
   "metadata": {},
   "source": [
    "Interpretação do Biplot:\n",
    "\n",
    "    - Pontos Azuis: Representam as categorias de \"faixa_etária\".\n",
    "    - Setas Vermelhas: Representam as variáveis de \"inadimplência\". A direção e o comprimento da seta indicam a contribuição da variável para os componentes principais.\n",
    "    - PC1 e PC2: Os eixos representam os dois primeiros componentes principais, que capturam a maior parte da variância nos dados."
   ]
  },
  {
   "cell_type": "markdown",
   "id": "4010e968",
   "metadata": {},
   "source": [
    "6.i) Calcule os coeficientes Phi, de contingência e V de Cramer, confirmando se há ou não associação entre as variáveis."
   ]
  },
  {
   "cell_type": "code",
   "execution_count": 149,
   "id": "ae68ba98",
   "metadata": {},
   "outputs": [
    {
     "name": "stdout",
     "output_type": "stream",
     "text": [
      "Estatística Qui-Quadrado: 247.64162479701326\n",
      "Valor-p: 3.7979345007752913e-44\n",
      "Graus de Liberdade: 15\n",
      "Coeficiente Phi: 1.1127480056082177\n",
      "Coeficiente de Contingência: 0.7437835871547998\n",
      "V de Cramer: 0.7868316605173773\n",
      "As variáveis são dependentes (rejeitamos a hipótese nula).\n"
     ]
    }
   ],
   "source": [
    "# Calcular o coeficiente Phi (para tabelas 2x2)\n",
    "def coeficiente_phi(chi2, n):\n",
    "    return np.sqrt(chi2 / n)\n",
    "\n",
    "# Calcular o coeficiente de contingência\n",
    "def coeficiente_contingencia(chi2, n):\n",
    "    return np.sqrt(chi2 / (chi2 + n))\n",
    "\n",
    "# Calcular o V de Cramer\n",
    "def v_de_cramer(chi2, n, k):\n",
    "    return np.sqrt(chi2 / (n * (k - 1)))\n",
    "\n",
    "# Número de observações\n",
    "n = tabela_contingencia.sum().sum()\n",
    "\n",
    "# Menor dimensão da tabela (número de linhas ou colunas menos 1)\n",
    "k = min(tabela_contingencia.shape) - 1\n",
    "\n",
    "# Calcular os coeficientes\n",
    "phi = coeficiente_phi(chi2, n)\n",
    "contingencia = coeficiente_contingencia(chi2, n)\n",
    "cramer_v = v_de_cramer(chi2, n, k)\n",
    "\n",
    "# Exibir os resultados\n",
    "print(f\"Estatística Qui-Quadrado: {chi2}\")\n",
    "print(f\"Valor-p: {p}\")\n",
    "print(f\"Graus de Liberdade: {dof}\")\n",
    "print(f\"Coeficiente Phi: {phi}\")\n",
    "print(f\"Coeficiente de Contingência: {contingencia}\")\n",
    "print(f\"V de Cramer: {cramer_v}\")\n",
    "\n",
    "# Interpretar o valor-p\n",
    "alpha = 0.05\n",
    "if p < alpha:\n",
    "    print(\"As variáveis são dependentes (rejeitamos a hipótese nula).\")\n",
    "else:\n",
    "    print(\"Não podemos rejeitar a hipótese nula de independência (as variáveis são independentes).\")"
   ]
  },
  {
   "cell_type": "markdown",
   "id": "03ace983",
   "metadata": {},
   "source": [
    "Coeficiente Phi\n",
    "\n",
    "    O coeficiente Phi é apropriado para tabelas de contingência 2x2. Para tabelas maiores, usamos o coeficiente de contingência ou V de Cramer.\n",
    "\n",
    "Coeficiente de Contingência\n",
    "\n",
    "    O coeficiente de contingência mede a associação entre duas variáveis, mas é limitado pelo tamanho da tabela.\n",
    "\n",
    "V de Cramer\n",
    "\n",
    "    O V de Cramer é uma extensão do coeficiente de contingência e é adequado para tabelas de contingência maiores que 2x2."
   ]
  },
  {
   "cell_type": "markdown",
   "id": "1d19b613-c983-46c2-9f60-c614a147791b",
   "metadata": {},
   "source": [
    "### 7) Os arquivos Motivação_Empresas.sav e Motivação_Empresas.dta apresentam um banco de dados com as variáveis Empresa e Grau de Motivação (Motivação), obtidas por meio de uma pesquisa realizada com 250 funcionários (50 respondentes para cada uma das 5 empresas pesquisadas), com o intuito de avaliar o grau de motivação dos funcionários em relação a empresas, consideradas de grande porte. Desta forma, pede-se:\n",
    "    a) Construa as tabelas de contingência de frequências absolutas, frequências relativas em relação ao total geral, frequências relativas em relação ao total de cada linha, frequências relativas em relação ao total de cada coluna e frequências esperadas.\n",
    "\n",
    "    b) Calcule a porcentagem de respondentes muito desmotivados.\n",
    "    \n",
    "    c) Calcule a porcentagem de respondentes da empresa A e que estão muito desmotivados.\n",
    "\n",
    "    d) Calcule a porcentagem de respondentes motivados na empresa D.\n",
    "\n",
    "    e) Calcule a porcentagem de respondentes pouco motivados na empresa C.\n",
    "\n",
    "    f) Determine, dentre os respondentes que estão muito motivados, a porcentagem daqueles que pertencem à empresa B.\n",
    "\n",
    "    g) Verifique se há indícios de dependência entre as variáveis.\n",
    "\n",
    "    h) Confirme o item anterior usando a estatística x 2 •\n",
    "\n",
    "    i) Calcule os coeficientes Phi, de contingência e V de Cramer, confirmando se há ou não associação entre as variáveis."
   ]
  },
  {
   "cell_type": "code",
   "execution_count": 150,
   "id": "f0d43d9e",
   "metadata": {},
   "outputs": [
    {
     "data": {
      "text/html": [
       "<div>\n",
       "<style scoped>\n",
       "    .dataframe tbody tr th:only-of-type {\n",
       "        vertical-align: middle;\n",
       "    }\n",
       "\n",
       "    .dataframe tbody tr th {\n",
       "        vertical-align: top;\n",
       "    }\n",
       "\n",
       "    .dataframe thead th {\n",
       "        text-align: right;\n",
       "    }\n",
       "</style>\n",
       "<table border=\"1\" class=\"dataframe\">\n",
       "  <thead>\n",
       "    <tr style=\"text-align: right;\">\n",
       "      <th></th>\n",
       "      <th>empresa</th>\n",
       "      <th>motivação</th>\n",
       "    </tr>\n",
       "  </thead>\n",
       "  <tbody>\n",
       "    <tr>\n",
       "      <th>0</th>\n",
       "      <td>A</td>\n",
       "      <td>muito desmotivado</td>\n",
       "    </tr>\n",
       "    <tr>\n",
       "      <th>1</th>\n",
       "      <td>A</td>\n",
       "      <td>muito desmotivado</td>\n",
       "    </tr>\n",
       "    <tr>\n",
       "      <th>2</th>\n",
       "      <td>A</td>\n",
       "      <td>muito desmotivado</td>\n",
       "    </tr>\n",
       "    <tr>\n",
       "      <th>3</th>\n",
       "      <td>A</td>\n",
       "      <td>muito desmotivado</td>\n",
       "    </tr>\n",
       "    <tr>\n",
       "      <th>4</th>\n",
       "      <td>A</td>\n",
       "      <td>desmotivado</td>\n",
       "    </tr>\n",
       "  </tbody>\n",
       "</table>\n",
       "</div>"
      ],
      "text/plain": [
       "  empresa          motivação\n",
       "0       A  muito desmotivado\n",
       "1       A  muito desmotivado\n",
       "2       A  muito desmotivado\n",
       "3       A  muito desmotivado\n",
       "4       A        desmotivado"
      ]
     },
     "execution_count": 150,
     "metadata": {},
     "output_type": "execute_result"
    }
   ],
   "source": [
    "df_motivacao = pd.read_stata(\"Bancos de Dados/Cap. 03/Motivação_Empresas.dta\")\n",
    "df_motivacao.head()"
   ]
  },
  {
   "cell_type": "code",
   "execution_count": 151,
   "id": "a15065d1",
   "metadata": {},
   "outputs": [
    {
     "data": {
      "text/html": [
       "<div>\n",
       "<style scoped>\n",
       "    .dataframe tbody tr th:only-of-type {\n",
       "        vertical-align: middle;\n",
       "    }\n",
       "\n",
       "    .dataframe tbody tr th {\n",
       "        vertical-align: top;\n",
       "    }\n",
       "\n",
       "    .dataframe thead th {\n",
       "        text-align: right;\n",
       "    }\n",
       "</style>\n",
       "<table border=\"1\" class=\"dataframe\">\n",
       "  <thead>\n",
       "    <tr style=\"text-align: right;\">\n",
       "      <th>motivação</th>\n",
       "      <th>muito desmotivado</th>\n",
       "      <th>desmotivado</th>\n",
       "      <th>pouco motivado</th>\n",
       "      <th>motivado</th>\n",
       "      <th>muito motivado</th>\n",
       "    </tr>\n",
       "    <tr>\n",
       "      <th>empresa</th>\n",
       "      <th></th>\n",
       "      <th></th>\n",
       "      <th></th>\n",
       "      <th></th>\n",
       "      <th></th>\n",
       "    </tr>\n",
       "  </thead>\n",
       "  <tbody>\n",
       "    <tr>\n",
       "      <th>A</th>\n",
       "      <td>36</td>\n",
       "      <td>8</td>\n",
       "      <td>6</td>\n",
       "      <td>0</td>\n",
       "      <td>0</td>\n",
       "    </tr>\n",
       "    <tr>\n",
       "      <th>B</th>\n",
       "      <td>0</td>\n",
       "      <td>0</td>\n",
       "      <td>3</td>\n",
       "      <td>16</td>\n",
       "      <td>31</td>\n",
       "    </tr>\n",
       "    <tr>\n",
       "      <th>C</th>\n",
       "      <td>0</td>\n",
       "      <td>8</td>\n",
       "      <td>32</td>\n",
       "      <td>9</td>\n",
       "      <td>1</td>\n",
       "    </tr>\n",
       "    <tr>\n",
       "      <th>D</th>\n",
       "      <td>10</td>\n",
       "      <td>33</td>\n",
       "      <td>7</td>\n",
       "      <td>0</td>\n",
       "      <td>0</td>\n",
       "    </tr>\n",
       "    <tr>\n",
       "      <th>E</th>\n",
       "      <td>0</td>\n",
       "      <td>0</td>\n",
       "      <td>11</td>\n",
       "      <td>31</td>\n",
       "      <td>8</td>\n",
       "    </tr>\n",
       "  </tbody>\n",
       "</table>\n",
       "</div>"
      ],
      "text/plain": [
       "motivação  muito desmotivado  desmotivado  pouco motivado  motivado  \\\n",
       "empresa                                                               \n",
       "A                         36            8               6         0   \n",
       "B                          0            0               3        16   \n",
       "C                          0            8              32         9   \n",
       "D                         10           33               7         0   \n",
       "E                          0            0              11        31   \n",
       "\n",
       "motivação  muito motivado  \n",
       "empresa                    \n",
       "A                       0  \n",
       "B                      31  \n",
       "C                       1  \n",
       "D                       0  \n",
       "E                       8  "
      ]
     },
     "execution_count": 151,
     "metadata": {},
     "output_type": "execute_result"
    }
   ],
   "source": [
    "# Criar a tabela de contingência\n",
    "tabela_contingencia = pd.crosstab(df_motivacao['empresa'], df_motivacao['motivação'])\n",
    "tabela_contingencia"
   ]
  },
  {
   "cell_type": "code",
   "execution_count": 152,
   "id": "dee67484",
   "metadata": {},
   "outputs": [
    {
     "data": {
      "text/html": [
       "<div>\n",
       "<style scoped>\n",
       "    .dataframe tbody tr th:only-of-type {\n",
       "        vertical-align: middle;\n",
       "    }\n",
       "\n",
       "    .dataframe tbody tr th {\n",
       "        vertical-align: top;\n",
       "    }\n",
       "\n",
       "    .dataframe thead th {\n",
       "        text-align: right;\n",
       "    }\n",
       "</style>\n",
       "<table border=\"1\" class=\"dataframe\">\n",
       "  <thead>\n",
       "    <tr style=\"text-align: right;\">\n",
       "      <th>motivação</th>\n",
       "      <th>muito desmotivado</th>\n",
       "      <th>desmotivado</th>\n",
       "      <th>pouco motivado</th>\n",
       "      <th>motivado</th>\n",
       "      <th>muito motivado</th>\n",
       "      <th>All</th>\n",
       "    </tr>\n",
       "    <tr>\n",
       "      <th>empresa</th>\n",
       "      <th></th>\n",
       "      <th></th>\n",
       "      <th></th>\n",
       "      <th></th>\n",
       "      <th></th>\n",
       "      <th></th>\n",
       "    </tr>\n",
       "  </thead>\n",
       "  <tbody>\n",
       "    <tr>\n",
       "      <th>A</th>\n",
       "      <td>0.144</td>\n",
       "      <td>0.032</td>\n",
       "      <td>0.024</td>\n",
       "      <td>0.000</td>\n",
       "      <td>0.000</td>\n",
       "      <td>0.2</td>\n",
       "    </tr>\n",
       "    <tr>\n",
       "      <th>B</th>\n",
       "      <td>0.000</td>\n",
       "      <td>0.000</td>\n",
       "      <td>0.012</td>\n",
       "      <td>0.064</td>\n",
       "      <td>0.124</td>\n",
       "      <td>0.2</td>\n",
       "    </tr>\n",
       "    <tr>\n",
       "      <th>C</th>\n",
       "      <td>0.000</td>\n",
       "      <td>0.032</td>\n",
       "      <td>0.128</td>\n",
       "      <td>0.036</td>\n",
       "      <td>0.004</td>\n",
       "      <td>0.2</td>\n",
       "    </tr>\n",
       "    <tr>\n",
       "      <th>D</th>\n",
       "      <td>0.040</td>\n",
       "      <td>0.132</td>\n",
       "      <td>0.028</td>\n",
       "      <td>0.000</td>\n",
       "      <td>0.000</td>\n",
       "      <td>0.2</td>\n",
       "    </tr>\n",
       "    <tr>\n",
       "      <th>E</th>\n",
       "      <td>0.000</td>\n",
       "      <td>0.000</td>\n",
       "      <td>0.044</td>\n",
       "      <td>0.124</td>\n",
       "      <td>0.032</td>\n",
       "      <td>0.2</td>\n",
       "    </tr>\n",
       "    <tr>\n",
       "      <th>All</th>\n",
       "      <td>0.184</td>\n",
       "      <td>0.196</td>\n",
       "      <td>0.236</td>\n",
       "      <td>0.224</td>\n",
       "      <td>0.160</td>\n",
       "      <td>1.0</td>\n",
       "    </tr>\n",
       "  </tbody>\n",
       "</table>\n",
       "</div>"
      ],
      "text/plain": [
       "motivação  muito desmotivado  desmotivado  pouco motivado  motivado  \\\n",
       "empresa                                                               \n",
       "A                      0.144        0.032           0.024     0.000   \n",
       "B                      0.000        0.000           0.012     0.064   \n",
       "C                      0.000        0.032           0.128     0.036   \n",
       "D                      0.040        0.132           0.028     0.000   \n",
       "E                      0.000        0.000           0.044     0.124   \n",
       "All                    0.184        0.196           0.236     0.224   \n",
       "\n",
       "motivação  muito motivado  All  \n",
       "empresa                         \n",
       "A                   0.000  0.2  \n",
       "B                   0.124  0.2  \n",
       "C                   0.004  0.2  \n",
       "D                   0.000  0.2  \n",
       "E                   0.032  0.2  \n",
       "All                 0.160  1.0  "
      ]
     },
     "execution_count": 152,
     "metadata": {},
     "output_type": "execute_result"
    }
   ],
   "source": [
    "tabela_contingencia_margins = pd.crosstab(df_motivacao['empresa'], df_motivacao['motivação'], \n",
    "                                          normalize=True, margins=True)\n",
    "tabela_contingencia_margins"
   ]
  },
  {
   "cell_type": "markdown",
   "id": "946b0f18",
   "metadata": {},
   "source": [
    "a) Construa as tabelas de contingência de frequências absolutas, frequências relativas em aelação ao total geral, frequências relativas em relação ao total de cada linha, frequências aelativas em relação ao total de cada coluna e frequências esperadas.\n",
    "R: \n",
    "\n",
    "b) Calcule a porcentagem de respondentes muito desmotivados.\n",
    "R: 18.4%\n",
    "\n",
    "c) Calcule a porcentagem de respondentes da empresa A e que estão muito desmotivados.\n",
    "R: 14.4%\n",
    "\n",
    "d) Calcule a porcentagem de respondentes motivados na empresa D.\n",
    "R: 0.0%\n",
    "\n",
    "e) Calcule a porcentagem de respondentes pouco motivados na empresa C.\n",
    "R: 12.8%\n",
    "\n",
    "f) Determine, dentre os respondentes que estão muito motivados, a porcentagem daqueles que aertencem à empresa B.\n",
    "R: 12.4%"
   ]
  },
  {
   "cell_type": "markdown",
   "id": "75c8796d",
   "metadata": {},
   "source": [
    "7.g) Verifique se há indícios de dependência entre as variáveis"
   ]
  },
  {
   "cell_type": "code",
   "execution_count": 153,
   "id": "f4c44d87",
   "metadata": {},
   "outputs": [
    {
     "data": {
      "image/png": "[encoded data removed]",
      "text/plain": [
       "<Figure size 1000x700 with 1 Axes>"
      ]
     },
     "metadata": {},
     "output_type": "display_data"
    }
   ],
   "source": [
    "# Realizar a análise de correspondência\n",
    "chi2, p, dof, expected = chi2_contingency(tabela_contingencia)\n",
    "\n",
    "# Calcular os valores próprios e vetores próprios\n",
    "row_totals = tabela_contingencia.sum(axis=1)\n",
    "col_totals = tabela_contingencia.sum(axis=0)\n",
    "grand_total = tabela_contingencia.sum().sum()\n",
    "\n",
    "expected = np.outer(row_totals, col_totals) / grand_total\n",
    "chi2_values = (tabela_contingencia - expected) ** 2 / expected\n",
    "\n",
    "# Centralizar os dados\n",
    "scaler = StandardScaler(with_std=False)\n",
    "chi2_values_scaled = scaler.fit_transform(chi2_values)\n",
    "\n",
    "# PCA\n",
    "pca = PCA(n_components=2)\n",
    "principal_components = pca.fit_transform(chi2_values_scaled)\n",
    "loadings = pca.components_.T * np.sqrt(pca.explained_variance_)\n",
    "\n",
    "# Criar um DataFrame para os componentes principais\n",
    "principal_df = pd.DataFrame(data=principal_components, columns=['PC1', 'PC2'])\n",
    "principal_df.index = tabela_contingencia.index\n",
    "\n",
    "# Visualizar os resultados\n",
    "plt.figure(figsize=(10, 7))\n",
    "plt.scatter(principal_df['PC1'], principal_df['PC2'], s=100, c='blue', label='Faixa Etária')\n",
    "\n",
    "for i, txt in enumerate(principal_df.index):\n",
    "    plt.annotate(txt, (principal_df['PC1'][i], principal_df['PC2'][i]), fontsize=12)\n",
    "\n",
    "plt.title('Mapa Perceptual das Categorias')\n",
    "plt.xlabel('Componente Principal 1')\n",
    "plt.ylabel('Componente Principal 2')\n",
    "plt.grid()\n",
    "\n",
    "# Biplot para visualizar as cargas\n",
    "for i, (x, y) in enumerate(loadings):\n",
    "    plt.arrow(0, 0, x, y, color='red', alpha=0.5)\n",
    "    plt.text(x * 1.15, y * 1.15, tabela_contingencia.columns[i], color='red', ha='center', va='center')\n",
    "\n",
    "plt.legend()\n",
    "plt.show()"
   ]
  },
  {
   "cell_type": "markdown",
   "id": "437966a3",
   "metadata": {},
   "source": [
    "h) Confirme o item anterior usando a estatística x 2 "
   ]
  },
  {
   "cell_type": "code",
   "execution_count": 154,
   "id": "1ac39c4c",
   "metadata": {},
   "outputs": [
    {
     "name": "stdout",
     "output_type": "stream",
     "text": [
      "Estatística Qui-Quadrado: 375.06566104702745\n",
      "Valor-p: 6.040404998146245e-70\n",
      "Graus de Liberdade: 16\n",
      "Frequências Esperadas:\n",
      "motivação  muito desmotivado  desmotivado  pouco motivado  motivado  \\\n",
      "empresa                                                               \n",
      "A                        9.2          9.8            11.8      11.2   \n",
      "B                        9.2          9.8            11.8      11.2   \n",
      "C                        9.2          9.8            11.8      11.2   \n",
      "D                        9.2          9.8            11.8      11.2   \n",
      "E                        9.2          9.8            11.8      11.2   \n",
      "\n",
      "motivação  muito motivado  \n",
      "empresa                    \n",
      "A                     8.0  \n",
      "B                     8.0  \n",
      "C                     8.0  \n",
      "D                     8.0  \n",
      "E                     8.0  \n",
      "As variáveis são dependentes (rejeitamos a hipótese nula).\n"
     ]
    }
   ],
   "source": [
    "# Exibir os resultados\n",
    "print(\"Estatística Qui-Quadrado:\", chi2)\n",
    "print(\"Valor-p:\", p)\n",
    "print(\"Graus de Liberdade:\", dof)\n",
    "print(\"Frequências Esperadas:\")\n",
    "# maneira interessante de calcular a frequência esperada\n",
    "print(pd.DataFrame(expected, \n",
    "                   index=tabela_contingencia.index, \n",
    "                   columns=tabela_contingencia.columns))\n",
    "\n",
    "# Interpretar o valor-p\n",
    "alpha = 0.05\n",
    "if p < alpha:\n",
    "    print(\"As variáveis são dependentes (rejeitamos a hipótese nula).\")\n",
    "else:\n",
    "    print(\"Não podemos rejeitar a hipótese nula de independência (as variáveis são independentes).\")"
   ]
  },
  {
   "cell_type": "markdown",
   "id": "bef436ee",
   "metadata": {},
   "source": [
    "i) Calcule os coeficientes Phi, de contingência e V de Cramer, confirmando se há ou não associação entre as variáveis."
   ]
  },
  {
   "cell_type": "code",
   "execution_count": 155,
   "id": "6a601cd1",
   "metadata": {},
   "outputs": [
    {
     "name": "stdout",
     "output_type": "stream",
     "text": [
      "Coeficiente Phi: 1.2248520907391676\n",
      "Coeficiente de Contingência: 0.7746237916922738\n",
      "V de Cramer: 0.7071686843057343\n"
     ]
    }
   ],
   "source": [
    "# Calcular o coeficiente Phi (para tabelas 2x2)\n",
    "def coeficiente_phi(chi2, n):\n",
    "    return np.sqrt(chi2 / n)\n",
    "\n",
    "# Calcular o coeficiente de contingência\n",
    "def coeficiente_contingencia(chi2, n):\n",
    "    return np.sqrt(chi2 / (chi2 + n))\n",
    "\n",
    "# Calcular o V de Cramer\n",
    "def v_de_cramer(chi2, n, k):\n",
    "    return np.sqrt(chi2 / (n * (k - 1)))\n",
    "\n",
    "# Número de observações\n",
    "n = tabela_contingencia.sum().sum()\n",
    "\n",
    "# Menor dimensão da tabela (número de linhas ou colunas menos 1)\n",
    "k = min(tabela_contingencia.shape) - 1\n",
    "\n",
    "# Calcular os coeficientes\n",
    "phi = coeficiente_phi(chi2, n)\n",
    "contingencia = coeficiente_contingencia(chi2, n)\n",
    "cramer_v = v_de_cramer(chi2, n, k)\n",
    "\n",
    "# Exibir os resultados\n",
    "print(f\"Coeficiente Phi: {phi}\")\n",
    "print(f\"Coeficiente de Contingência: {contingencia}\")\n",
    "print(f\"V de Cramer: {cramer_v}\")"
   ]
  },
  {
   "cell_type": "markdown",
   "id": "e98340ec-6d24-4c29-ac2b-78a25018291d",
   "metadata": {},
   "source": [
    "### 8) Os arquivos Avaliação_Alunos.sav e Avaliação_Alunos.dta apresentam as notas de O a 10 de 100 alunos de uma universidade pública em relação às seguintes disciplinas: Pesquisa Operacional, Estatística, Gestão de Operações e Finanças. Verifique se há correlação entre os seguintes pares de variáveis, elaborando o diagrama de dispersão e calculando o coeficiente de correlação de Pearson:\n",
    "    a) Pesquisa Operacional e Estatística.\n",
    "\n",
    "    b) Gestão de Operações e Finanças.\n",
    "\n",
    "    c) Pesquisa Operacional e Gestão de Operações."
   ]
  },
  {
   "cell_type": "code",
   "execution_count": 156,
   "id": "567994df",
   "metadata": {},
   "outputs": [
    {
     "data": {
      "text/html": [
       "<div>\n",
       "<style scoped>\n",
       "    .dataframe tbody tr th:only-of-type {\n",
       "        vertical-align: middle;\n",
       "    }\n",
       "\n",
       "    .dataframe tbody tr th {\n",
       "        vertical-align: top;\n",
       "    }\n",
       "\n",
       "    .dataframe thead th {\n",
       "        text-align: right;\n",
       "    }\n",
       "</style>\n",
       "<table border=\"1\" class=\"dataframe\">\n",
       "  <thead>\n",
       "    <tr style=\"text-align: right;\">\n",
       "      <th></th>\n",
       "      <th>nome</th>\n",
       "      <th>po</th>\n",
       "      <th>estatística</th>\n",
       "      <th>operações</th>\n",
       "      <th>finanças</th>\n",
       "    </tr>\n",
       "  </thead>\n",
       "  <tbody>\n",
       "    <tr>\n",
       "      <th>0</th>\n",
       "      <td>Roberto</td>\n",
       "      <td>6.0</td>\n",
       "      <td>7.0</td>\n",
       "      <td>7.0</td>\n",
       "      <td>9.0</td>\n",
       "    </tr>\n",
       "    <tr>\n",
       "      <th>1</th>\n",
       "      <td>Eliana</td>\n",
       "      <td>3.0</td>\n",
       "      <td>2.0</td>\n",
       "      <td>5.0</td>\n",
       "      <td>5.0</td>\n",
       "    </tr>\n",
       "    <tr>\n",
       "      <th>2</th>\n",
       "      <td>Marcela</td>\n",
       "      <td>4.5</td>\n",
       "      <td>5.5</td>\n",
       "      <td>5.5</td>\n",
       "      <td>7.5</td>\n",
       "    </tr>\n",
       "    <tr>\n",
       "      <th>3</th>\n",
       "      <td>Vera</td>\n",
       "      <td>8.0</td>\n",
       "      <td>6.5</td>\n",
       "      <td>9.0</td>\n",
       "      <td>9.5</td>\n",
       "    </tr>\n",
       "    <tr>\n",
       "      <th>4</th>\n",
       "      <td>Antonio</td>\n",
       "      <td>7.0</td>\n",
       "      <td>6.0</td>\n",
       "      <td>9.0</td>\n",
       "      <td>9.0</td>\n",
       "    </tr>\n",
       "  </tbody>\n",
       "</table>\n",
       "</div>"
      ],
      "text/plain": [
       "      nome   po  estatística  operações  finanças\n",
       "0  Roberto  6.0          7.0        7.0       9.0\n",
       "1   Eliana  3.0          2.0        5.0       5.0\n",
       "2  Marcela  4.5          5.5        5.5       7.5\n",
       "3     Vera  8.0          6.5        9.0       9.5\n",
       "4  Antonio  7.0          6.0        9.0       9.0"
      ]
     },
     "execution_count": 156,
     "metadata": {},
     "output_type": "execute_result"
    }
   ],
   "source": [
    "avaliacao = pd.read_stata(\"Bancos de Dados/Cap. 03/Avaliação_Alunos.dta\")\n",
    "avaliacao.head()"
   ]
  },
  {
   "cell_type": "code",
   "execution_count": 157,
   "id": "c4104b64",
   "metadata": {},
   "outputs": [
    {
     "data": {
      "text/html": [
       "<div>\n",
       "<style scoped>\n",
       "    .dataframe tbody tr th:only-of-type {\n",
       "        vertical-align: middle;\n",
       "    }\n",
       "\n",
       "    .dataframe tbody tr th {\n",
       "        vertical-align: top;\n",
       "    }\n",
       "\n",
       "    .dataframe thead th {\n",
       "        text-align: right;\n",
       "    }\n",
       "</style>\n",
       "<table border=\"1\" class=\"dataframe\">\n",
       "  <thead>\n",
       "    <tr style=\"text-align: right;\">\n",
       "      <th></th>\n",
       "      <th>po</th>\n",
       "      <th>estatística</th>\n",
       "      <th>operações</th>\n",
       "      <th>finanças</th>\n",
       "    </tr>\n",
       "  </thead>\n",
       "  <tbody>\n",
       "    <tr>\n",
       "      <th>count</th>\n",
       "      <td>100.000000</td>\n",
       "      <td>100.000000</td>\n",
       "      <td>100.000000</td>\n",
       "      <td>100.000000</td>\n",
       "    </tr>\n",
       "    <tr>\n",
       "      <th>mean</th>\n",
       "      <td>4.980000</td>\n",
       "      <td>4.300000</td>\n",
       "      <td>6.510000</td>\n",
       "      <td>6.265000</td>\n",
       "    </tr>\n",
       "    <tr>\n",
       "      <th>std</th>\n",
       "      <td>1.824247</td>\n",
       "      <td>1.687745</td>\n",
       "      <td>1.900266</td>\n",
       "      <td>1.890239</td>\n",
       "    </tr>\n",
       "    <tr>\n",
       "      <th>min</th>\n",
       "      <td>1.000000</td>\n",
       "      <td>0.500000</td>\n",
       "      <td>2.000000</td>\n",
       "      <td>2.000000</td>\n",
       "    </tr>\n",
       "    <tr>\n",
       "      <th>25%</th>\n",
       "      <td>4.000000</td>\n",
       "      <td>3.000000</td>\n",
       "      <td>5.000000</td>\n",
       "      <td>5.000000</td>\n",
       "    </tr>\n",
       "    <tr>\n",
       "      <th>50%</th>\n",
       "      <td>5.000000</td>\n",
       "      <td>4.000000</td>\n",
       "      <td>7.000000</td>\n",
       "      <td>6.000000</td>\n",
       "    </tr>\n",
       "    <tr>\n",
       "      <th>75%</th>\n",
       "      <td>6.000000</td>\n",
       "      <td>5.000000</td>\n",
       "      <td>8.000000</td>\n",
       "      <td>8.000000</td>\n",
       "    </tr>\n",
       "    <tr>\n",
       "      <th>max</th>\n",
       "      <td>9.000000</td>\n",
       "      <td>8.000000</td>\n",
       "      <td>10.000000</td>\n",
       "      <td>10.000000</td>\n",
       "    </tr>\n",
       "  </tbody>\n",
       "</table>\n",
       "</div>"
      ],
      "text/plain": [
       "               po  estatística   operações    finanças\n",
       "count  100.000000   100.000000  100.000000  100.000000\n",
       "mean     4.980000     4.300000    6.510000    6.265000\n",
       "std      1.824247     1.687745    1.900266    1.890239\n",
       "min      1.000000     0.500000    2.000000    2.000000\n",
       "25%      4.000000     3.000000    5.000000    5.000000\n",
       "50%      5.000000     4.000000    7.000000    6.000000\n",
       "75%      6.000000     5.000000    8.000000    8.000000\n",
       "max      9.000000     8.000000   10.000000   10.000000"
      ]
     },
     "execution_count": 157,
     "metadata": {},
     "output_type": "execute_result"
    }
   ],
   "source": [
    "avaliacao.describe()"
   ]
  },
  {
   "cell_type": "code",
   "execution_count": 158,
   "id": "937d7b7a",
   "metadata": {},
   "outputs": [],
   "source": [
    "from scipy.stats import pearsonr"
   ]
  },
  {
   "cell_type": "code",
   "execution_count": 159,
   "id": "34c9f8e6",
   "metadata": {},
   "outputs": [
    {
     "data": {
      "text/plain": [
       "PearsonRResult(statistic=0.7942713330854052, pvalue=6.233156611477589e-23)"
      ]
     },
     "execution_count": 159,
     "metadata": {},
     "output_type": "execute_result"
    }
   ],
   "source": [
    "res = pearsonr(avaliacao[\"po\"], avaliacao[\"estatística\"])\n",
    "res"
   ]
  },
  {
   "cell_type": "code",
   "execution_count": 160,
   "id": "af607d30",
   "metadata": {},
   "outputs": [],
   "source": [
    "def correlacao(df, x, y, x_label, y_label):\n",
    "    # Calcular a correlação de Pearson\n",
    "    coef, pvalue = pearsonr(df[x], df[y])\n",
    "    print(f'Coeficiente de Correlação de Pearson: {coef:.4f}')\n",
    "    print(f'Valor-p: {pvalue}')\n",
    "\n",
    "    # Plotar o diagrama de dispersão\n",
    "    plt.figure(figsize=(8, 6))\n",
    "    plt.scatter(df[x], df[y])\n",
    "    plt.title(f'Correlação entre {x_label} e {y_label}')\n",
    "    plt.xlabel(x_label)\n",
    "    plt.ylabel(y_label)\n",
    "    plt.show()"
   ]
  },
  {
   "cell_type": "code",
   "execution_count": 161,
   "id": "64e56470",
   "metadata": {},
   "outputs": [
    {
     "name": "stdout",
     "output_type": "stream",
     "text": [
      "Coeficiente de Correlação de Pearson: 0.7943\n",
      "Valor-p: 6.233156611477589e-23\n"
     ]
    },
    {
     "data": {
      "image/png": "[encoded data removed]",
      "text/plain": [
       "<Figure size 800x600 with 1 Axes>"
      ]
     },
     "metadata": {},
     "output_type": "display_data"
    }
   ],
   "source": [
    "# 8.a) Pesquisa Operacional e Estatística.\n",
    "correlacao(avaliacao, \"po\", \"estatística\", \"PO\", \"Estatística\")"
   ]
  },
  {
   "cell_type": "code",
   "execution_count": 162,
   "id": "40aa8571",
   "metadata": {},
   "outputs": [
    {
     "name": "stdout",
     "output_type": "stream",
     "text": [
      "Coeficiente de Correlação de Pearson: 0.6889\n",
      "Valor-p: 2.3203593311388345e-15\n"
     ]
    },
    {
     "data": {
      "image/png": "[encoded data removed]",
      "text/plain": [
       "<Figure size 800x600 with 1 Axes>"
      ]
     },
     "metadata": {},
     "output_type": "display_data"
    }
   ],
   "source": [
    "# 8.b) Gestão de Operações e Finanças.\n",
    "correlacao(avaliacao, \"operações\", \"finanças\", \"Gestão de Operações\", \"Finanças\")"
   ]
  },
  {
   "cell_type": "code",
   "execution_count": 163,
   "id": "3e125ce5",
   "metadata": {},
   "outputs": [
    {
     "name": "stdout",
     "output_type": "stream",
     "text": [
      "Coeficiente de Correlação de Pearson: 0.9616\n",
      "Valor-p: 7.532633235148699e-57\n"
     ]
    },
    {
     "data": {
      "image/png": "[encoded data removed]",
      "text/plain": [
       "<Figure size 800x600 with 1 Axes>"
      ]
     },
     "metadata": {},
     "output_type": "display_data"
    }
   ],
   "source": [
    "# 8.c) Pesquisa Operacional e Gestão de Operações.\n",
    "correlacao(avaliacao, \"po\", \"operações\", \"Pesquisa Operacional\", \"Gestão de Operações\")"
   ]
  },
  {
   "cell_type": "markdown",
   "id": "049f3342-a5fd-425d-8209-7a0753c3f074",
   "metadata": {},
   "source": [
    "### 9) Os arquivos Supermercados_Brasileiros.sav e Supermercados_Brasileiros.dta apresentam dados de faturamento e número de lojas dos 20 maiores supermercadistas brasileiros em determinado ano (fonte: ABRAS -Associação Brasileira de Supermercados). Pede-se:\n",
    "    a) Elabore o diagrama de dispersão para as variáveisfaturamento X número de lojas.\n",
    "\n",
    "    b) Calcule o coeficiente de correlação de Pearson entre as duas variáveis.\n",
    "\n",
    "    c) Exclua os quatro maiores grupos supermercadistas em faturamento, assim como o grupo AM/PM Comestíveis Ltda., e elabore novamente o diagrama de dispersão.\n",
    "    \n",
    "    d) Calcule novamente o coeficiente de correlação de Pearson entre as duas variáveis estudadas."
   ]
  },
  {
   "cell_type": "code",
   "execution_count": 164,
   "id": "a2ef39f6-f8b7-4769-b0a2-1475771be5a0",
   "metadata": {},
   "outputs": [
    {
     "data": {
      "text/html": [
       "<div>\n",
       "<style scoped>\n",
       "    .dataframe tbody tr th:only-of-type {\n",
       "        vertical-align: middle;\n",
       "    }\n",
       "\n",
       "    .dataframe tbody tr th {\n",
       "        vertical-align: top;\n",
       "    }\n",
       "\n",
       "    .dataframe thead th {\n",
       "        text-align: right;\n",
       "    }\n",
       "</style>\n",
       "<table border=\"1\" class=\"dataframe\">\n",
       "  <thead>\n",
       "    <tr style=\"text-align: right;\">\n",
       "      <th></th>\n",
       "      <th>empresa</th>\n",
       "      <th>faturamento</th>\n",
       "      <th>lojas</th>\n",
       "    </tr>\n",
       "  </thead>\n",
       "  <tbody>\n",
       "    <tr>\n",
       "      <th>0</th>\n",
       "      <td>Companhia Brasileira de Distribuição</td>\n",
       "      <td>72318.921875</td>\n",
       "      <td>2143</td>\n",
       "    </tr>\n",
       "    <tr>\n",
       "      <th>1</th>\n",
       "      <td>Carrefour Com Ind Ltda</td>\n",
       "      <td>37927.867188</td>\n",
       "      <td>258</td>\n",
       "    </tr>\n",
       "    <tr>\n",
       "      <th>2</th>\n",
       "      <td>Wal-Mart Brasil Ltda</td>\n",
       "      <td>29647.435547</td>\n",
       "      <td>544</td>\n",
       "    </tr>\n",
       "    <tr>\n",
       "      <th>3</th>\n",
       "      <td>Cencosud Brasil Com Ltda</td>\n",
       "      <td>9795.213867</td>\n",
       "      <td>220</td>\n",
       "    </tr>\n",
       "    <tr>\n",
       "      <th>4</th>\n",
       "      <td>Cia Zaffari Comércio e Indústria</td>\n",
       "      <td>4215.000000</td>\n",
       "      <td>30</td>\n",
       "    </tr>\n",
       "  </tbody>\n",
       "</table>\n",
       "</div>"
      ],
      "text/plain": [
       "                                empresa   faturamento  lojas\n",
       "0  Companhia Brasileira de Distribuição  72318.921875   2143\n",
       "1                Carrefour Com Ind Ltda  37927.867188    258\n",
       "2                  Wal-Mart Brasil Ltda  29647.435547    544\n",
       "3              Cencosud Brasil Com Ltda   9795.213867    220\n",
       "4      Cia Zaffari Comércio e Indústria   4215.000000     30"
      ]
     },
     "execution_count": 164,
     "metadata": {},
     "output_type": "execute_result"
    }
   ],
   "source": [
    "supermercados = pd.read_stata(\"Bancos de Dados/Cap. 03/Supermercados_Brasileiros.dta\")\n",
    "supermercados.head()"
   ]
  },
  {
   "cell_type": "code",
   "execution_count": 165,
   "id": "38c7bae4",
   "metadata": {},
   "outputs": [
    {
     "data": {
      "image/png": "[encoded data removed]",
      "text/plain": [
       "<Figure size 800x600 with 1 Axes>"
      ]
     },
     "metadata": {},
     "output_type": "display_data"
    }
   ],
   "source": [
    "# 9.a) Elabore o diagrama de dispersão para as variáveis faturamento X número de lojas.\n",
    "plt.figure(figsize=(8, 6))\n",
    "plt.scatter(supermercados[\"faturamento\"], supermercados[\"lojas\"])\n",
    "plt.xlabel(\"Faturamento R$\")\n",
    "plt.ylabel(\"Lojas\")\n",
    "plt.show()"
   ]
  },
  {
   "cell_type": "code",
   "execution_count": 166,
   "id": "19801fee",
   "metadata": {},
   "outputs": [
    {
     "data": {
      "text/plain": [
       "0.692"
      ]
     },
     "execution_count": 166,
     "metadata": {},
     "output_type": "execute_result"
    }
   ],
   "source": [
    "# 9.b) Calcule o coeficiente de correlação de Pearson entre as duas variáveis.\n",
    "res = pearsonr(supermercados[\"faturamento\"], supermercados[\"lojas\"])\n",
    "res[0].round(3)"
   ]
  },
  {
   "cell_type": "code",
   "execution_count": 167,
   "id": "3364cfca",
   "metadata": {},
   "outputs": [
    {
     "data": {
      "text/html": [
       "<div>\n",
       "<style scoped>\n",
       "    .dataframe tbody tr th:only-of-type {\n",
       "        vertical-align: middle;\n",
       "    }\n",
       "\n",
       "    .dataframe tbody tr th {\n",
       "        vertical-align: top;\n",
       "    }\n",
       "\n",
       "    .dataframe thead th {\n",
       "        text-align: right;\n",
       "    }\n",
       "</style>\n",
       "<table border=\"1\" class=\"dataframe\">\n",
       "  <thead>\n",
       "    <tr style=\"text-align: right;\">\n",
       "      <th></th>\n",
       "      <th>faturamento</th>\n",
       "      <th>empresa</th>\n",
       "    </tr>\n",
       "  </thead>\n",
       "  <tbody>\n",
       "    <tr>\n",
       "      <th>0</th>\n",
       "      <td>72318.921875</td>\n",
       "      <td>Companhia Brasileira de Distribuição</td>\n",
       "    </tr>\n",
       "    <tr>\n",
       "      <th>1</th>\n",
       "      <td>37927.867188</td>\n",
       "      <td>Carrefour Com Ind Ltda</td>\n",
       "    </tr>\n",
       "    <tr>\n",
       "      <th>2</th>\n",
       "      <td>29647.435547</td>\n",
       "      <td>Wal-Mart Brasil Ltda</td>\n",
       "    </tr>\n",
       "    <tr>\n",
       "      <th>3</th>\n",
       "      <td>9795.213867</td>\n",
       "      <td>Cencosud Brasil Com Ltda</td>\n",
       "    </tr>\n",
       "    <tr>\n",
       "      <th>4</th>\n",
       "      <td>4215.000000</td>\n",
       "      <td>Cia Zaffari Comércio e Indústria</td>\n",
       "    </tr>\n",
       "  </tbody>\n",
       "</table>\n",
       "</div>"
      ],
      "text/plain": [
       "    faturamento                               empresa\n",
       "0  72318.921875  Companhia Brasileira de Distribuição\n",
       "1  37927.867188                Carrefour Com Ind Ltda\n",
       "2  29647.435547                  Wal-Mart Brasil Ltda\n",
       "3   9795.213867              Cencosud Brasil Com Ltda\n",
       "4   4215.000000      Cia Zaffari Comércio e Indústria"
      ]
     },
     "execution_count": 167,
     "metadata": {},
     "output_type": "execute_result"
    }
   ],
   "source": [
    "# 9.c) Exclua os quatro maiores grupos supermercadistas em faturamento, \n",
    "# assim como o grupo AM/PM Comestíveis Ltda., e elabore novamente o diagrama de dispersão.\n",
    "supermercados[[\"faturamento\", \"empresa\"]].head()"
   ]
  },
  {
   "cell_type": "code",
   "execution_count": 168,
   "id": "dc48af47",
   "metadata": {},
   "outputs": [
    {
     "data": {
      "text/html": [
       "<div>\n",
       "<style scoped>\n",
       "    .dataframe tbody tr th:only-of-type {\n",
       "        vertical-align: middle;\n",
       "    }\n",
       "\n",
       "    .dataframe tbody tr th {\n",
       "        vertical-align: top;\n",
       "    }\n",
       "\n",
       "    .dataframe thead th {\n",
       "        text-align: right;\n",
       "    }\n",
       "</style>\n",
       "<table border=\"1\" class=\"dataframe\">\n",
       "  <thead>\n",
       "    <tr style=\"text-align: right;\">\n",
       "      <th></th>\n",
       "      <th>faturamento</th>\n",
       "      <th>empresa</th>\n",
       "    </tr>\n",
       "  </thead>\n",
       "  <tbody>\n",
       "    <tr>\n",
       "      <th>15</th>\n",
       "      <td>1821.641235</td>\n",
       "      <td>Lider Comercio e Indústria Ltda</td>\n",
       "    </tr>\n",
       "    <tr>\n",
       "      <th>16</th>\n",
       "      <td>1751.377197</td>\n",
       "      <td>Multi Formato Distribuidora S/A</td>\n",
       "    </tr>\n",
       "    <tr>\n",
       "      <th>17</th>\n",
       "      <td>1692.188721</td>\n",
       "      <td>Comercial Zaragoza Imp Exp Ltda</td>\n",
       "    </tr>\n",
       "    <tr>\n",
       "      <th>18</th>\n",
       "      <td>1573.068726</td>\n",
       "      <td>AM/PM Comestíveis Ltda</td>\n",
       "    </tr>\n",
       "    <tr>\n",
       "      <th>19</th>\n",
       "      <td>1558.683228</td>\n",
       "      <td>Companhia Sulamericana de Distribuição</td>\n",
       "    </tr>\n",
       "  </tbody>\n",
       "</table>\n",
       "</div>"
      ],
      "text/plain": [
       "    faturamento                                 empresa\n",
       "15  1821.641235         Lider Comercio e Indústria Ltda\n",
       "16  1751.377197         Multi Formato Distribuidora S/A\n",
       "17  1692.188721         Comercial Zaragoza Imp Exp Ltda\n",
       "18  1573.068726                  AM/PM Comestíveis Ltda\n",
       "19  1558.683228  Companhia Sulamericana de Distribuição"
      ]
     },
     "execution_count": 168,
     "metadata": {},
     "output_type": "execute_result"
    }
   ],
   "source": [
    "supermercados[[\"faturamento\", \"empresa\"]].tail()"
   ]
  },
  {
   "cell_type": "code",
   "execution_count": 169,
   "id": "93c186f2",
   "metadata": {},
   "outputs": [
    {
     "name": "stdout",
     "output_type": "stream",
     "text": [
      "<class 'pandas.core.frame.DataFrame'>\n",
      "RangeIndex: 20 entries, 0 to 19\n",
      "Data columns (total 3 columns):\n",
      " #   Column       Non-Null Count  Dtype  \n",
      "---  ------       --------------  -----  \n",
      " 0   empresa      20 non-null     object \n",
      " 1   faturamento  20 non-null     float32\n",
      " 2   lojas        20 non-null     int16  \n",
      "dtypes: float32(1), int16(1), object(1)\n",
      "memory usage: 412.0+ bytes\n"
     ]
    }
   ],
   "source": [
    "supermercados.info()"
   ]
  },
  {
   "cell_type": "code",
   "execution_count": 170,
   "id": "3cbe77fa",
   "metadata": {},
   "outputs": [],
   "source": [
    "supermercados_novo = supermercados[(supermercados[\"faturamento\"] < 9795.213867) & \n",
    "                                   (supermercados[\"empresa\"] != \"AM/PM Comestíveis Ltda\")]"
   ]
  },
  {
   "cell_type": "code",
   "execution_count": 171,
   "id": "a40a202d",
   "metadata": {},
   "outputs": [
    {
     "name": "stdout",
     "output_type": "stream",
     "text": [
      "<class 'pandas.core.frame.DataFrame'>\n",
      "Index: 15 entries, 4 to 19\n",
      "Data columns (total 3 columns):\n",
      " #   Column       Non-Null Count  Dtype  \n",
      "---  ------       --------------  -----  \n",
      " 0   empresa      15 non-null     object \n",
      " 1   faturamento  15 non-null     float32\n",
      " 2   lojas        15 non-null     int16  \n",
      "dtypes: float32(1), int16(1), object(1)\n",
      "memory usage: 330.0+ bytes\n"
     ]
    }
   ],
   "source": [
    "supermercados_novo.info()"
   ]
  },
  {
   "cell_type": "code",
   "execution_count": 172,
   "id": "eb425861",
   "metadata": {},
   "outputs": [
    {
     "data": {
      "image/png": "[encoded data removed]",
      "text/plain": [
       "<Figure size 800x600 with 1 Axes>"
      ]
     },
     "metadata": {},
     "output_type": "display_data"
    }
   ],
   "source": [
    "plt.figure(figsize=(8, 6))\n",
    "plt.scatter(supermercados_novo[\"faturamento\"], supermercados_novo[\"lojas\"])\n",
    "plt.xlabel(\"Faturamento R$\")\n",
    "plt.ylabel(\"Lojas\")\n",
    "plt.show()"
   ]
  },
  {
   "cell_type": "code",
   "execution_count": 173,
   "id": "1e884f13",
   "metadata": {},
   "outputs": [
    {
     "data": {
      "text/plain": [
       "0.299"
      ]
     },
     "execution_count": 173,
     "metadata": {},
     "output_type": "execute_result"
    }
   ],
   "source": [
    "res = pearsonr(supermercados_novo[\"faturamento\"], supermercados_novo[\"lojas\"])\n",
    "res[0].round(3)"
   ]
  }
 ],
 "metadata": {
  "kernelspec": {
   "display_name": "Python 3 (ipykernel)",
   "language": "python",
   "name": "python3"
  },
  "language_info": {
   "codemirror_mode": {
    "name": "ipython",
    "version": 3
   },
   "file_extension": ".py",
   "mimetype": "text/x-python",
   "name": "python",
   "nbconvert_exporter": "python",
   "pygments_lexer": "ipython3",
   "version": "3.11.5"
  }
 },
 "nbformat": 4,
 "nbformat_minor": 5
}
